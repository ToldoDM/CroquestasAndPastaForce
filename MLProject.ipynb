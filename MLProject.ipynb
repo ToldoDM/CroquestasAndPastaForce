{
 "cells": [
  {
   "cell_type": "markdown",
   "id": "227d3ce9",
   "metadata": {},
   "source": [
    "In the next cell, I will include all packages installed for the whole project"
   ]
  },
  {
   "cell_type": "code",
   "execution_count": 15,
   "id": "9268cfdb",
   "metadata": {},
   "outputs": [],
   "source": [
    "#install.packages(\"Boruta\")\n",
    "#install.packages(\"cluster\")\n",
    "#install.packages(\"randomForest\")"
   ]
  },
  {
   "cell_type": "code",
   "execution_count": 2,
   "id": "d564cefb",
   "metadata": {
    "scrolled": true
   },
   "outputs": [
    {
     "data": {
      "text/html": [
       "'R version 4.3.0 (2023-04-21 ucrt)'"
      ],
      "text/latex": [
       "'R version 4.3.0 (2023-04-21 ucrt)'"
      ],
      "text/markdown": [
       "'R version 4.3.0 (2023-04-21 ucrt)'"
      ],
      "text/plain": [
       "[1] \"R version 4.3.0 (2023-04-21 ucrt)\""
      ]
     },
     "metadata": {},
     "output_type": "display_data"
    }
   ],
   "source": [
    "version$version.string"
   ]
  },
  {
   "cell_type": "markdown",
   "id": "c846d638",
   "metadata": {},
   "source": [
    "We get the data and take a quick look at it"
   ]
  },
  {
   "cell_type": "code",
   "execution_count": 5,
   "id": "538b0ea4",
   "metadata": {},
   "outputs": [],
   "source": [
    "data <- read.csv(\"datasets/ProjectFiles/train_values.csv\")\n",
    "labels <- read.csv(\"datasets/ProjectFiles/train_labels.csv\")"
   ]
  },
  {
   "cell_type": "code",
   "execution_count": 6,
   "id": "94d11d29",
   "metadata": {},
   "outputs": [
    {
     "data": {
      "text/html": [
       "<table class=\"dataframe\">\n",
       "<caption>A data.frame: 6 × 39</caption>\n",
       "<thead>\n",
       "\t<tr><th></th><th scope=col>building_id</th><th scope=col>geo_level_1_id</th><th scope=col>geo_level_2_id</th><th scope=col>geo_level_3_id</th><th scope=col>count_floors_pre_eq</th><th scope=col>age</th><th scope=col>area_percentage</th><th scope=col>height_percentage</th><th scope=col>land_surface_condition</th><th scope=col>foundation_type</th><th scope=col>⋯</th><th scope=col>has_secondary_use_agriculture</th><th scope=col>has_secondary_use_hotel</th><th scope=col>has_secondary_use_rental</th><th scope=col>has_secondary_use_institution</th><th scope=col>has_secondary_use_school</th><th scope=col>has_secondary_use_industry</th><th scope=col>has_secondary_use_health_post</th><th scope=col>has_secondary_use_gov_office</th><th scope=col>has_secondary_use_use_police</th><th scope=col>has_secondary_use_other</th></tr>\n",
       "\t<tr><th></th><th scope=col>&lt;int&gt;</th><th scope=col>&lt;int&gt;</th><th scope=col>&lt;int&gt;</th><th scope=col>&lt;int&gt;</th><th scope=col>&lt;int&gt;</th><th scope=col>&lt;int&gt;</th><th scope=col>&lt;int&gt;</th><th scope=col>&lt;int&gt;</th><th scope=col>&lt;chr&gt;</th><th scope=col>&lt;chr&gt;</th><th scope=col>⋯</th><th scope=col>&lt;int&gt;</th><th scope=col>&lt;int&gt;</th><th scope=col>&lt;int&gt;</th><th scope=col>&lt;int&gt;</th><th scope=col>&lt;int&gt;</th><th scope=col>&lt;int&gt;</th><th scope=col>&lt;int&gt;</th><th scope=col>&lt;int&gt;</th><th scope=col>&lt;int&gt;</th><th scope=col>&lt;int&gt;</th></tr>\n",
       "</thead>\n",
       "<tbody>\n",
       "\t<tr><th scope=row>1</th><td>802906</td><td> 6</td><td>487</td><td>12198</td><td>2</td><td>30</td><td>6</td><td>5</td><td>t</td><td>r</td><td>⋯</td><td>0</td><td>0</td><td>0</td><td>0</td><td>0</td><td>0</td><td>0</td><td>0</td><td>0</td><td>0</td></tr>\n",
       "\t<tr><th scope=row>2</th><td> 28830</td><td> 8</td><td>900</td><td> 2812</td><td>2</td><td>10</td><td>8</td><td>7</td><td>o</td><td>r</td><td>⋯</td><td>0</td><td>0</td><td>0</td><td>0</td><td>0</td><td>0</td><td>0</td><td>0</td><td>0</td><td>0</td></tr>\n",
       "\t<tr><th scope=row>3</th><td> 94947</td><td>21</td><td>363</td><td> 8973</td><td>2</td><td>10</td><td>5</td><td>5</td><td>t</td><td>r</td><td>⋯</td><td>0</td><td>0</td><td>0</td><td>0</td><td>0</td><td>0</td><td>0</td><td>0</td><td>0</td><td>0</td></tr>\n",
       "\t<tr><th scope=row>4</th><td>590882</td><td>22</td><td>418</td><td>10694</td><td>2</td><td>10</td><td>6</td><td>5</td><td>t</td><td>r</td><td>⋯</td><td>0</td><td>0</td><td>0</td><td>0</td><td>0</td><td>0</td><td>0</td><td>0</td><td>0</td><td>0</td></tr>\n",
       "\t<tr><th scope=row>5</th><td>201944</td><td>11</td><td>131</td><td> 1488</td><td>3</td><td>30</td><td>8</td><td>9</td><td>t</td><td>r</td><td>⋯</td><td>0</td><td>0</td><td>0</td><td>0</td><td>0</td><td>0</td><td>0</td><td>0</td><td>0</td><td>0</td></tr>\n",
       "\t<tr><th scope=row>6</th><td>333020</td><td> 8</td><td>558</td><td> 6089</td><td>2</td><td>10</td><td>9</td><td>5</td><td>t</td><td>r</td><td>⋯</td><td>1</td><td>0</td><td>0</td><td>0</td><td>0</td><td>0</td><td>0</td><td>0</td><td>0</td><td>0</td></tr>\n",
       "</tbody>\n",
       "</table>\n"
      ],
      "text/latex": [
       "A data.frame: 6 × 39\n",
       "\\begin{tabular}{r|lllllllllllllllllllll}\n",
       "  & building\\_id & geo\\_level\\_1\\_id & geo\\_level\\_2\\_id & geo\\_level\\_3\\_id & count\\_floors\\_pre\\_eq & age & area\\_percentage & height\\_percentage & land\\_surface\\_condition & foundation\\_type & ⋯ & has\\_secondary\\_use\\_agriculture & has\\_secondary\\_use\\_hotel & has\\_secondary\\_use\\_rental & has\\_secondary\\_use\\_institution & has\\_secondary\\_use\\_school & has\\_secondary\\_use\\_industry & has\\_secondary\\_use\\_health\\_post & has\\_secondary\\_use\\_gov\\_office & has\\_secondary\\_use\\_use\\_police & has\\_secondary\\_use\\_other\\\\\n",
       "  & <int> & <int> & <int> & <int> & <int> & <int> & <int> & <int> & <chr> & <chr> & ⋯ & <int> & <int> & <int> & <int> & <int> & <int> & <int> & <int> & <int> & <int>\\\\\n",
       "\\hline\n",
       "\t1 & 802906 &  6 & 487 & 12198 & 2 & 30 & 6 & 5 & t & r & ⋯ & 0 & 0 & 0 & 0 & 0 & 0 & 0 & 0 & 0 & 0\\\\\n",
       "\t2 &  28830 &  8 & 900 &  2812 & 2 & 10 & 8 & 7 & o & r & ⋯ & 0 & 0 & 0 & 0 & 0 & 0 & 0 & 0 & 0 & 0\\\\\n",
       "\t3 &  94947 & 21 & 363 &  8973 & 2 & 10 & 5 & 5 & t & r & ⋯ & 0 & 0 & 0 & 0 & 0 & 0 & 0 & 0 & 0 & 0\\\\\n",
       "\t4 & 590882 & 22 & 418 & 10694 & 2 & 10 & 6 & 5 & t & r & ⋯ & 0 & 0 & 0 & 0 & 0 & 0 & 0 & 0 & 0 & 0\\\\\n",
       "\t5 & 201944 & 11 & 131 &  1488 & 3 & 30 & 8 & 9 & t & r & ⋯ & 0 & 0 & 0 & 0 & 0 & 0 & 0 & 0 & 0 & 0\\\\\n",
       "\t6 & 333020 &  8 & 558 &  6089 & 2 & 10 & 9 & 5 & t & r & ⋯ & 1 & 0 & 0 & 0 & 0 & 0 & 0 & 0 & 0 & 0\\\\\n",
       "\\end{tabular}\n"
      ],
      "text/markdown": [
       "\n",
       "A data.frame: 6 × 39\n",
       "\n",
       "| <!--/--> | building_id &lt;int&gt; | geo_level_1_id &lt;int&gt; | geo_level_2_id &lt;int&gt; | geo_level_3_id &lt;int&gt; | count_floors_pre_eq &lt;int&gt; | age &lt;int&gt; | area_percentage &lt;int&gt; | height_percentage &lt;int&gt; | land_surface_condition &lt;chr&gt; | foundation_type &lt;chr&gt; | ⋯ ⋯ | has_secondary_use_agriculture &lt;int&gt; | has_secondary_use_hotel &lt;int&gt; | has_secondary_use_rental &lt;int&gt; | has_secondary_use_institution &lt;int&gt; | has_secondary_use_school &lt;int&gt; | has_secondary_use_industry &lt;int&gt; | has_secondary_use_health_post &lt;int&gt; | has_secondary_use_gov_office &lt;int&gt; | has_secondary_use_use_police &lt;int&gt; | has_secondary_use_other &lt;int&gt; |\n",
       "|---|---|---|---|---|---|---|---|---|---|---|---|---|---|---|---|---|---|---|---|---|---|\n",
       "| 1 | 802906 |  6 | 487 | 12198 | 2 | 30 | 6 | 5 | t | r | ⋯ | 0 | 0 | 0 | 0 | 0 | 0 | 0 | 0 | 0 | 0 |\n",
       "| 2 |  28830 |  8 | 900 |  2812 | 2 | 10 | 8 | 7 | o | r | ⋯ | 0 | 0 | 0 | 0 | 0 | 0 | 0 | 0 | 0 | 0 |\n",
       "| 3 |  94947 | 21 | 363 |  8973 | 2 | 10 | 5 | 5 | t | r | ⋯ | 0 | 0 | 0 | 0 | 0 | 0 | 0 | 0 | 0 | 0 |\n",
       "| 4 | 590882 | 22 | 418 | 10694 | 2 | 10 | 6 | 5 | t | r | ⋯ | 0 | 0 | 0 | 0 | 0 | 0 | 0 | 0 | 0 | 0 |\n",
       "| 5 | 201944 | 11 | 131 |  1488 | 3 | 30 | 8 | 9 | t | r | ⋯ | 0 | 0 | 0 | 0 | 0 | 0 | 0 | 0 | 0 | 0 |\n",
       "| 6 | 333020 |  8 | 558 |  6089 | 2 | 10 | 9 | 5 | t | r | ⋯ | 1 | 0 | 0 | 0 | 0 | 0 | 0 | 0 | 0 | 0 |\n",
       "\n"
      ],
      "text/plain": [
       "  building_id geo_level_1_id geo_level_2_id geo_level_3_id count_floors_pre_eq\n",
       "1 802906       6             487            12198          2                  \n",
       "2  28830       8             900             2812          2                  \n",
       "3  94947      21             363             8973          2                  \n",
       "4 590882      22             418            10694          2                  \n",
       "5 201944      11             131             1488          3                  \n",
       "6 333020       8             558             6089          2                  \n",
       "  age area_percentage height_percentage land_surface_condition foundation_type\n",
       "1 30  6               5                 t                      r              \n",
       "2 10  8               7                 o                      r              \n",
       "3 10  5               5                 t                      r              \n",
       "4 10  6               5                 t                      r              \n",
       "5 30  8               9                 t                      r              \n",
       "6 10  9               5                 t                      r              \n",
       "  ⋯ has_secondary_use_agriculture has_secondary_use_hotel\n",
       "1 ⋯ 0                             0                      \n",
       "2 ⋯ 0                             0                      \n",
       "3 ⋯ 0                             0                      \n",
       "4 ⋯ 0                             0                      \n",
       "5 ⋯ 0                             0                      \n",
       "6 ⋯ 1                             0                      \n",
       "  has_secondary_use_rental has_secondary_use_institution\n",
       "1 0                        0                            \n",
       "2 0                        0                            \n",
       "3 0                        0                            \n",
       "4 0                        0                            \n",
       "5 0                        0                            \n",
       "6 0                        0                            \n",
       "  has_secondary_use_school has_secondary_use_industry\n",
       "1 0                        0                         \n",
       "2 0                        0                         \n",
       "3 0                        0                         \n",
       "4 0                        0                         \n",
       "5 0                        0                         \n",
       "6 0                        0                         \n",
       "  has_secondary_use_health_post has_secondary_use_gov_office\n",
       "1 0                             0                           \n",
       "2 0                             0                           \n",
       "3 0                             0                           \n",
       "4 0                             0                           \n",
       "5 0                             0                           \n",
       "6 0                             0                           \n",
       "  has_secondary_use_use_police has_secondary_use_other\n",
       "1 0                            0                      \n",
       "2 0                            0                      \n",
       "3 0                            0                      \n",
       "4 0                            0                      \n",
       "5 0                            0                      \n",
       "6 0                            0                      "
      ]
     },
     "metadata": {},
     "output_type": "display_data"
    },
    {
     "data": {
      "text/html": [
       "<table class=\"dataframe\">\n",
       "<caption>A data.frame: 6 × 2</caption>\n",
       "<thead>\n",
       "\t<tr><th></th><th scope=col>building_id</th><th scope=col>damage_grade</th></tr>\n",
       "\t<tr><th></th><th scope=col>&lt;int&gt;</th><th scope=col>&lt;int&gt;</th></tr>\n",
       "</thead>\n",
       "<tbody>\n",
       "\t<tr><th scope=row>1</th><td>802906</td><td>3</td></tr>\n",
       "\t<tr><th scope=row>2</th><td> 28830</td><td>2</td></tr>\n",
       "\t<tr><th scope=row>3</th><td> 94947</td><td>3</td></tr>\n",
       "\t<tr><th scope=row>4</th><td>590882</td><td>2</td></tr>\n",
       "\t<tr><th scope=row>5</th><td>201944</td><td>3</td></tr>\n",
       "\t<tr><th scope=row>6</th><td>333020</td><td>2</td></tr>\n",
       "</tbody>\n",
       "</table>\n"
      ],
      "text/latex": [
       "A data.frame: 6 × 2\n",
       "\\begin{tabular}{r|ll}\n",
       "  & building\\_id & damage\\_grade\\\\\n",
       "  & <int> & <int>\\\\\n",
       "\\hline\n",
       "\t1 & 802906 & 3\\\\\n",
       "\t2 &  28830 & 2\\\\\n",
       "\t3 &  94947 & 3\\\\\n",
       "\t4 & 590882 & 2\\\\\n",
       "\t5 & 201944 & 3\\\\\n",
       "\t6 & 333020 & 2\\\\\n",
       "\\end{tabular}\n"
      ],
      "text/markdown": [
       "\n",
       "A data.frame: 6 × 2\n",
       "\n",
       "| <!--/--> | building_id &lt;int&gt; | damage_grade &lt;int&gt; |\n",
       "|---|---|---|\n",
       "| 1 | 802906 | 3 |\n",
       "| 2 |  28830 | 2 |\n",
       "| 3 |  94947 | 3 |\n",
       "| 4 | 590882 | 2 |\n",
       "| 5 | 201944 | 3 |\n",
       "| 6 | 333020 | 2 |\n",
       "\n"
      ],
      "text/plain": [
       "  building_id damage_grade\n",
       "1 802906      3           \n",
       "2  28830      2           \n",
       "3  94947      3           \n",
       "4 590882      2           \n",
       "5 201944      3           \n",
       "6 333020      2           "
      ]
     },
     "metadata": {},
     "output_type": "display_data"
    },
    {
     "data": {
      "text/html": [
       "<style>\n",
       ".list-inline {list-style: none; margin:0; padding: 0}\n",
       ".list-inline>li {display: inline-block}\n",
       ".list-inline>li:not(:last-child)::after {content: \"\\00b7\"; padding: 0 .5ex}\n",
       "</style>\n",
       "<ol class=list-inline><li>260601</li><li>39</li></ol>\n"
      ],
      "text/latex": [
       "\\begin{enumerate*}\n",
       "\\item 260601\n",
       "\\item 39\n",
       "\\end{enumerate*}\n"
      ],
      "text/markdown": [
       "1. 260601\n",
       "2. 39\n",
       "\n",
       "\n"
      ],
      "text/plain": [
       "[1] 260601     39"
      ]
     },
     "metadata": {},
     "output_type": "display_data"
    },
    {
     "data": {
      "text/html": [
       "<style>\n",
       ".list-inline {list-style: none; margin:0; padding: 0}\n",
       ".list-inline>li {display: inline-block}\n",
       ".list-inline>li:not(:last-child)::after {content: \"\\00b7\"; padding: 0 .5ex}\n",
       "</style>\n",
       "<ol class=list-inline><li>0</li><li>0</li></ol>\n"
      ],
      "text/latex": [
       "\\begin{enumerate*}\n",
       "\\item 0\n",
       "\\item 0\n",
       "\\end{enumerate*}\n"
      ],
      "text/markdown": [
       "1. 0\n",
       "2. 0\n",
       "\n",
       "\n"
      ],
      "text/plain": [
       "[1] 0 0"
      ]
     },
     "metadata": {},
     "output_type": "display_data"
    }
   ],
   "source": [
    "head(data)\n",
    "head(labels)\n",
    "dim(data)\n",
    "dim(data) - dim(na.omit(data))\n",
    "#There is no missing data in the whole dataset"
   ]
  },
  {
   "cell_type": "markdown",
   "id": "f250a2c2",
   "metadata": {},
   "source": [
    "We will be using some different features selection techniques, since there are lots of them. Since the dataset is very big, some of this methods are computationally very expensive. Therefore, I choose to run this methods on a significantly big sample of the whole dataset"
   ]
  },
  {
   "cell_type": "code",
   "execution_count": 18,
   "id": "a09e3b8f",
   "metadata": {},
   "outputs": [],
   "source": [
    "features <- subset(data, select = -c(building_id))\n",
    "response <- labels[, -1]\n",
    "set.seed(123)\n",
    "n <- nrow(data)\n",
    "rows <- sample(n, 500)\n",
    "sample_data <- data[rows, -1]\n",
    "sample_response <- labels[rows,-1]\n"
   ]
  },
  {
   "cell_type": "markdown",
   "id": "45994a85",
   "metadata": {},
   "source": [
    "Here, we will mix different feature selection methods. These will be Boruta, Random Forests and Clustering"
   ]
  },
  {
   "cell_type": "markdown",
   "id": "96d19bf1",
   "metadata": {},
   "source": [
    "First, we use the correlation with the output"
   ]
  },
  {
   "cell_type": "code",
   "execution_count": 19,
   "id": "eaad227a",
   "metadata": {},
   "outputs": [
    {
     "ename": "ERROR",
     "evalue": "Error in cor(features, response): 'x' must be numeric\n",
     "output_type": "error",
     "traceback": [
      "Error in cor(features, response): 'x' must be numeric\nTraceback:\n",
      "1. cor(features, response)",
      "2. stop(\"'x' must be numeric\")"
     ]
    }
   ],
   "source": [
    "#Compute correlation across all the input variables and the target variable\n",
    "correlation_vector <-abs(cor(features,response))\n",
    "#Rank variables according to correlation with the output\n",
    "correlation_ranking_idx <-sort(correlation_vector,dec=T,index.return=T)$ix"
   ]
  },
  {
   "cell_type": "code",
   "execution_count": 9,
   "id": "54276579",
   "metadata": {
    "scrolled": true
   },
   "outputs": [
    {
     "data": {
      "text/html": [
       "<style>\n",
       ".list-inline {list-style: none; margin:0; padding: 0}\n",
       ".list-inline>li {display: inline-block}\n",
       ".list-inline>li:not(:last-child)::after {content: \"\\00b7\"; padding: 0 .5ex}\n",
       "</style>\n",
       "<ol class=list-inline><li>'geo_level_1_id'</li><li>'age'</li><li>'area_percentage'</li><li>'height_percentage'</li><li>'foundation_type'</li><li>'roof_type'</li><li>'ground_floor_type'</li><li>'has_superstructure_mud_mortar_stone'</li><li>'has_superstructure_cement_mortar_brick'</li><li>'has_superstructure_bamboo'</li><li>'has_superstructure_rc_non_engineered'</li><li>'has_superstructure_rc_engineered'</li></ol>\n"
      ],
      "text/latex": [
       "\\begin{enumerate*}\n",
       "\\item 'geo\\_level\\_1\\_id'\n",
       "\\item 'age'\n",
       "\\item 'area\\_percentage'\n",
       "\\item 'height\\_percentage'\n",
       "\\item 'foundation\\_type'\n",
       "\\item 'roof\\_type'\n",
       "\\item 'ground\\_floor\\_type'\n",
       "\\item 'has\\_superstructure\\_mud\\_mortar\\_stone'\n",
       "\\item 'has\\_superstructure\\_cement\\_mortar\\_brick'\n",
       "\\item 'has\\_superstructure\\_bamboo'\n",
       "\\item 'has\\_superstructure\\_rc\\_non\\_engineered'\n",
       "\\item 'has\\_superstructure\\_rc\\_engineered'\n",
       "\\end{enumerate*}\n"
      ],
      "text/markdown": [
       "1. 'geo_level_1_id'\n",
       "2. 'age'\n",
       "3. 'area_percentage'\n",
       "4. 'height_percentage'\n",
       "5. 'foundation_type'\n",
       "6. 'roof_type'\n",
       "7. 'ground_floor_type'\n",
       "8. 'has_superstructure_mud_mortar_stone'\n",
       "9. 'has_superstructure_cement_mortar_brick'\n",
       "10. 'has_superstructure_bamboo'\n",
       "11. 'has_superstructure_rc_non_engineered'\n",
       "12. 'has_superstructure_rc_engineered'\n",
       "\n",
       "\n"
      ],
      "text/plain": [
       " [1] \"geo_level_1_id\"                        \n",
       " [2] \"age\"                                   \n",
       " [3] \"area_percentage\"                       \n",
       " [4] \"height_percentage\"                     \n",
       " [5] \"foundation_type\"                       \n",
       " [6] \"roof_type\"                             \n",
       " [7] \"ground_floor_type\"                     \n",
       " [8] \"has_superstructure_mud_mortar_stone\"   \n",
       " [9] \"has_superstructure_cement_mortar_brick\"\n",
       "[10] \"has_superstructure_bamboo\"             \n",
       "[11] \"has_superstructure_rc_non_engineered\"  \n",
       "[12] \"has_superstructure_rc_engineered\"      "
      ]
     },
     "metadata": {},
     "output_type": "display_data"
    }
   ],
   "source": [
    "library(cluster)\n",
    "library(Boruta)\n",
    "#library(randomForest)\n",
    "#We calculate a distance matrix with daisy, using the method gower, that allows for different data types as is in our case\n",
    "#dist <- daisy(sample_data, metric = \"gower\")\n",
    "\n",
    "#We calculate the best number of clusters maximizing the silouhette width\n",
    "#set.seed(123)\n",
    "#num_clusters <- 5:10\n",
    "#sil_width <- c()\n",
    "#for (i in num_clusters) {\n",
    "#  pam_fit <- pam(dist, k = i)\n",
    "#  sil_width[i] <- pam_fit$silinfo$avg.width\n",
    "#}\n",
    "#num_clusters <- which.max(na.omit(sil_width))\n",
    "\n",
    "#clusters <- pam(dist, k = num_clusters, cluster.only = TRUE)\n",
    "\n",
    "#Determining most important features using Boruta\n",
    "boruta_model <- Boruta(sample_response ~ ., data=sample_data, doTrace=0)\n",
    "boruta_selected_features <- getSelectedAttributes(boruta_model, withTentative=FALSE)\n",
    "boruta_selected_features\n",
    "\n",
    "#Determining the most important features using the cluster importance measure\n",
    "#cluster_importance <- importance(clusters, sample_data)\n",
    "#cluster_selected_features <- row.names(cluster_importance)[cluster_importance$Overall > 0]\n",
    "#cluster_selected_features\n",
    "\n"
   ]
  },
  {
   "cell_type": "code",
   "execution_count": 7,
   "id": "a660749e",
   "metadata": {},
   "outputs": [
    {
     "ename": "ERROR",
     "evalue": "Error in eval(expr, envir, enclos): objeto 'boruta_selected_features' no encontrado\n",
     "output_type": "error",
     "traceback": [
      "Error in eval(expr, envir, enclos): objeto 'boruta_selected_features' no encontrado\nTraceback:\n",
      "1. data[, boruta_selected_features]",
      "2. `[.data.frame`(data, , boruta_selected_features)"
     ]
    }
   ],
   "source": [
    "#filtered_data <- data[,boruta_selected_features]\n",
    "#head(filtered_data)"
   ]
  },
  {
   "cell_type": "markdown",
   "id": "39b23bd7",
   "metadata": {},
   "source": [
    "Even though I couldn't complete feature selection as I wanted, I'll go on\n",
    "I will try to build one model for prediction"
   ]
  },
  {
   "cell_type": "code",
   "execution_count": null,
   "id": "e9a7145e",
   "metadata": {},
   "outputs": [],
   "source": []
  }
 ],
 "metadata": {
  "kernelspec": {
   "display_name": "R",
   "language": "R",
   "name": "ir"
  },
  "language_info": {
   "codemirror_mode": "r",
   "file_extension": ".r",
   "mimetype": "text/x-r-source",
   "name": "R",
   "pygments_lexer": "r",
   "version": "4.3.0"
  }
 },
 "nbformat": 4,
 "nbformat_minor": 5
}
